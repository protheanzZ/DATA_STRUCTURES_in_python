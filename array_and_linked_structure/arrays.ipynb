{
 "cells": [
  {
   "cell_type": "markdown",
   "metadata": {},
   "source": [
    "# working directory settings"
   ]
  },
  {
   "cell_type": "code",
   "execution_count": 4,
   "metadata": {},
   "outputs": [
    {
     "data": {
      "text/plain": [
       "'C:\\\\Users\\\\zw493\\\\PycharmProjects\\\\DATA_STRUCTURES_in_python\\\\array_and_linked_structure'"
      ]
     },
     "execution_count": 4,
     "metadata": {},
     "output_type": "execute_result"
    }
   ],
   "source": [
    "import os\n",
    "wd = os.getcwd()\n",
    "wd += ('\\\\array_and_linked_structure')\n",
    "wd"
   ]
  },
  {
   "cell_type": "code",
   "execution_count": 5,
   "metadata": {},
   "outputs": [
    {
     "data": {
      "text/plain": [
       "['',\n 'C:\\\\Users\\\\zw493\\\\.ipython',\n 'C:\\\\Users\\\\zw493\\\\PycharmProjects\\\\DATA_STRUCTURES_in_python\\\\venv\\\\lib\\\\site-packages\\\\IPython\\\\extensions',\n 'C:\\\\Users\\\\zw493\\\\PycharmProjects\\\\DATA_STRUCTURES_in_python\\\\venv\\\\Scripts\\\\python36.zip',\n 'C:\\\\Users\\\\zw493\\\\PycharmProjects\\\\DATA_STRUCTURES_in_python\\\\venv\\\\lib\\\\site-packages\\\\pip-10.0.1-py3.6.egg',\n 'C:\\\\Users\\\\zw493\\\\Anaconda3\\\\lib',\n 'C:\\\\Users\\\\zw493\\\\Anaconda3\\\\DLLs',\n 'C:\\\\Users\\\\zw493\\\\PycharmProjects\\\\DATA_STRUCTURES_in_python\\\\venv\\\\lib\\\\site-packages\\\\setuptools-39.1.0-py3.6.egg',\n 'C:\\\\Users\\\\zw493\\\\PycharmProjects\\\\DATA_STRUCTURES_in_python',\n 'C:\\\\Program Files\\\\JetBrains\\\\PyCharm 2018.1.4\\\\helpers\\\\pycharm_matplotlib_backend',\n 'C:\\\\Users\\\\zw493\\\\PycharmProjects\\\\DATA_STRUCTURES_in_python\\\\venv\\\\lib\\\\site-packages',\n 'C:\\\\Users\\\\zw493\\\\PycharmProjects\\\\DATA_STRUCTURES_in_python\\\\venv',\n 'C:\\\\Users\\\\zw493\\\\PycharmProjects\\\\DATA_STRUCTURES_in_python\\\\array_and_linked_structure',\n 'C:\\\\Users\\\\zw493\\\\Anaconda3']"
      ]
     },
     "execution_count": 5,
     "metadata": {},
     "output_type": "execute_result"
    }
   ],
   "source": [
    "import math\n",
    "import sys\n",
    "sys.path\n",
    "sys.path.append(wd)\n",
    "list(set(sys.path))"
   ]
  },
  {
   "cell_type": "markdown",
   "metadata": {},
   "source": [
    "# test here"
   ]
  },
  {
   "cell_type": "code",
   "execution_count": 6,
   "metadata": {
    "collapsed": true
   },
   "outputs": [],
   "source": [
    "from arrays import Array\n",
    "from node import Node"
   ]
  },
  {
   "cell_type": "code",
   "execution_count": 7,
   "metadata": {},
   "outputs": [
    {
     "data": {
      "text/plain": [
       "'A'"
      ]
     },
     "execution_count": 7,
     "metadata": {},
     "output_type": "execute_result"
    }
   ],
   "source": [
    "node1 = None\n",
    "node2 = Node('A', None)\n",
    "node3 = Node('B', node2)\n",
    "node3.next.data"
   ]
  },
  {
   "cell_type": "code",
   "execution_count": null,
   "metadata": {},
   "outputs": [],
   "source": []
  }
 ],
 "metadata": {
  "kernelspec": {
   "display_name": "Python 2",
   "language": "python",
   "name": "python2"
  },
  "language_info": {
   "codemirror_mode": {
    "name": "ipython",
    "version": 2
   },
   "file_extension": ".py",
   "mimetype": "text/x-python",
   "name": "python",
   "nbconvert_exporter": "python",
   "pygments_lexer": "ipython2",
   "version": "2.7.6"
  }
 },
 "nbformat": 4,
 "nbformat_minor": 0
}
